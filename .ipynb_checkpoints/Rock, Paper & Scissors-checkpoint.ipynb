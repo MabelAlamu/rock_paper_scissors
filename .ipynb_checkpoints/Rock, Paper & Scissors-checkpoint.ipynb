{
 "cells": [
  {
   "cell_type": "code",
   "execution_count": 14,
   "metadata": {},
   "outputs": [
    {
     "name": "stdout",
     "output_type": "stream",
     "text": [
      "Let's play rock, paper and scissors!\n",
      "\n",
      "What do you choose? Type 0 for Rock, 1 for Paper, or 2 for Scissors.\n",
      "\n",
      "Your choice: 3\n",
      "\n",
      "You've entered an invalid number!\n"
     ]
    }
   ],
   "source": [
    "#Creating the rock, paper scissors game using conditionals only\n",
    "\n",
    "import random\n",
    "\n",
    "rock = '''\n",
    "_______\n",
    "---'   ____)\n",
    "      (_____)\n",
    "      (_____)\n",
    "      (____)\n",
    "---.__(___)\n",
    "'''\n",
    "\n",
    "paper = '''\n",
    "    _______\n",
    "---'   ____)____\n",
    "          ______)\n",
    "          _______)\n",
    "         _______)\n",
    "---.__________)\n",
    "'''\n",
    "\n",
    "scissors = '''\n",
    "    _______\n",
    "---'   ____)____\n",
    "          ______)\n",
    "       __________)\n",
    "      (____)\n",
    "---.__(___)\n",
    "'''\n",
    "\n",
    "game_options = [rock, paper, scissors]\n",
    "\n",
    "print(f\"Let's play rock, paper and scissors!\\n\")\n",
    "\n",
    "user_choice= int(input(f\"What do you choose? Type 0 for Rock, 1 for Paper, or 2 for Scissors.\\n\\nYour choice: \"))\n",
    "\n",
    "#assigning user choice to game options\n",
    "if user_choice == 0:\n",
    "  choice_name = rock\n",
    "elif user_choice == 1:\n",
    "  choice_name = paper\n",
    "else: \n",
    "  choice_name = scissors\n",
    "\n",
    "computer_choice = random.choice(game_options)\n",
    "\n",
    "\n",
    "if user_choice >= 3 or user_choice < 0:\n",
    "    print(\"\\nYou've entered an invalid number!\")\n",
    "elif choice_name == computer_choice:\n",
    "  print(f\"It's a draw, try again.\\n\\nYou played {choice_name}\\n\\n computer played {computer_choice}\")\n",
    "elif choice_name == rock and computer_choice == scissors:\n",
    "  print(f\"Yaay, you've won!\\n\\nYou played {choice_name}\\n\\n computer played {computer_choice}\")\n",
    "elif choice_name == scissors and computer_choice == paper:\n",
    "  print(f\"Yaay, you've won!\\n\\nYou played {choice_name}\\n\\n computer played {computer_choice}\")\n",
    "elif choice_name == paper and computer_choice == rock:\n",
    "  print(f\"Yaay, you've won!\\n\\nYou played {choice_name}\\n\\n computer played {computer_choice}\")\n",
    "else:\n",
    "  print(f\"Uh-oh you've lost!\\n\\nYou played {choice_name}\\n\\n computer played {computer_choice}\")"
   ]
  },
  {
   "cell_type": "code",
   "execution_count": null,
   "metadata": {},
   "outputs": [],
   "source": []
  }
 ],
 "metadata": {
  "kernelspec": {
   "display_name": "Python 3",
   "language": "python",
   "name": "python3"
  },
  "language_info": {
   "codemirror_mode": {
    "name": "ipython",
    "version": 3
   },
   "file_extension": ".py",
   "mimetype": "text/x-python",
   "name": "python",
   "nbconvert_exporter": "python",
   "pygments_lexer": "ipython3",
   "version": "3.8.5"
  }
 },
 "nbformat": 4,
 "nbformat_minor": 4
}

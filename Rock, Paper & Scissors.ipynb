{
 "cells": [
  {
   "cell_type": "code",
   "execution_count": 10,
   "metadata": {},
   "outputs": [
    {
     "name": "stdout",
     "output_type": "stream",
     "text": [
      "Let's play rock, paper and scissors!\n",
      "\n",
      "What do you choose? Type 0 for Rock, 1 for Paper, or 2 for Scissors:\n",
      "1\n",
      "Yaay, you've won!\n",
      " You played \n",
      "    _______\n",
      "---'   ____)____\n",
      "          ______)\n",
      "       __________)\n",
      "      (____)\n",
      "---.__(___)\n",
      "\n",
      " computer played \n",
      "    _______\n",
      "---'   ____)____\n",
      "          ______)\n",
      "          _______)\n",
      "         _______)\n",
      "---.__________)\n",
      "\n"
     ]
    }
   ],
   "source": [
    "import random\n",
    "\n",
    "Rock = '''\n",
    "_______\n",
    "---'   ____)\n",
    "      (_____)\n",
    "      (_____)\n",
    "      (____)\n",
    "---.__(___)\n",
    "'''\n",
    "\n",
    "Paper = '''\n",
    "    _______\n",
    "---'   ____)____\n",
    "          ______)\n",
    "          _______)\n",
    "         _______)\n",
    "---.__________)\n",
    "'''\n",
    "\n",
    "Scissors = '''\n",
    "    _______\n",
    "---'   ____)____\n",
    "          ______)\n",
    "       __________)\n",
    "      (____)\n",
    "---.__(___)\n",
    "'''\n",
    "\n",
    "game_options = [Rock, Paper, Scissors]\n",
    "\n",
    "print(f\"Let's play rock, paper and scissors!\\n\")\n",
    "\n",
    "user_choice= input(f\"What do you choose? Type 0 for Rock, 1 for Paper, or 2 for Scissors:\\n\")\n",
    "\n",
    "if user_choice == 0:\n",
    "  choice_name = Rock\n",
    "elif user_choice == 1:\n",
    "  choice_name = Paper\n",
    "else: \n",
    "  choice_name = Scissors\n",
    "\n",
    "computer_choice = random.choice(game_options)\n",
    "\n",
    "#print(f\"Computer played {computer_choice}\")\n",
    "if choice_name == computer_choice:\n",
    "  print(f\"It's a draw, try again.\\n You played {choice_name}\\n computer played {computer_choice}\")\n",
    "elif choice_name == Rock and computer_choice == Scissors:\n",
    "  print(f\"Yaay, you've won!\\n You played {choice_name}\\n computer played {computer_choice}\")\n",
    "elif choice_name == Scissors and computer_choice == Paper:\n",
    "  print(f\"Yaay, you've won!\\n You played {choice_name}\\n computer played {computer_choice}\")\n",
    "elif choice_name == Paper and computer_choice == Rock:\n",
    "  print(f\"Yaay, you've won!\\n You played {choice_name}\\n computer played {computer_choice}\")\n",
    "else:\n",
    "  print(f\"You played {choice_name}\\n computer played {computer_choice}\\n Uh-oh you've lost!\")"
   ]
  }
 ],
 "metadata": {
  "kernelspec": {
   "display_name": "Python 3",
   "language": "python",
   "name": "python3"
  },
  "language_info": {
   "codemirror_mode": {
    "name": "ipython",
    "version": 3
   },
   "file_extension": ".py",
   "mimetype": "text/x-python",
   "name": "python",
   "nbconvert_exporter": "python",
   "pygments_lexer": "ipython3",
   "version": "3.8.5"
  }
 },
 "nbformat": 4,
 "nbformat_minor": 4
}
